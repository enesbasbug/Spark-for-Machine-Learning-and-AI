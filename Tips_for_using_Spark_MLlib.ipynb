{
 "cells": [
  {
   "cell_type": "markdown",
   "metadata": {},
   "source": [
    "There are three basic stages of building ML models.\n",
    "- There's a preprocessing phase where we collect, reformat, and transform the data.\n",
    "- Build our models using a variety of ML algorithm. \n",
    "- Evaluating data; Assess the quality of models built in step-2\n"
   ]
  },
  {
   "cell_type": "markdown",
   "metadata": {},
   "source": [
    "### Preprocessing\n",
    "- Load data into DataFrames\n",
    "- Include headers, or column names, in text files\n",
    "- Use inferSchema = True (things like dates and numeric values get mapped to their appropriate data type)\n",
    "- Use VectorAssembler to create feature vectors\n",
    "- Use StringIndexer to map from string to numeric indexes\n"
   ]
  },
  {
   "cell_type": "markdown",
   "metadata": {},
   "source": [
    "### Building Models\n",
    "- Split data into training and tset sets\n",
    "- Fit models using training data\n",
    "- Create predictions by applying a transform to the test data"
   ]
  },
  {
   "cell_type": "markdown",
   "metadata": {},
   "source": [
    "### Validating Models\n",
    "- Use MLlib Evaluators\n",
    "    - MulticlassClassificationEvaluator\n",
    "    - RegreesionEvaluator\n",
    "- Experiment with multiple algorithms\n",
    "- Vary hyperparameters"
   ]
  }
 ],
 "metadata": {
  "kernelspec": {
   "display_name": "Python 3",
   "language": "python",
   "name": "python3"
  },
  "language_info": {
   "codemirror_mode": {
    "name": "ipython",
    "version": 3
   },
   "file_extension": ".py",
   "mimetype": "text/x-python",
   "name": "python",
   "nbconvert_exporter": "python",
   "pygments_lexer": "ipython3",
   "version": "3.8.5"
  }
 },
 "nbformat": 4,
 "nbformat_minor": 4
}
